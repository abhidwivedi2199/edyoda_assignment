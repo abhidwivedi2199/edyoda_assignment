{
 "cells": [
  {
   "cell_type": "markdown",
   "id": "672c848e",
   "metadata": {},
   "source": [
    "# 1 Create a null vector of size 10 but the fifth value which is 1."
   ]
  },
  {
   "cell_type": "code",
   "execution_count": 2,
   "id": "d5b3d44c",
   "metadata": {},
   "outputs": [],
   "source": [
    "import numpy as np"
   ]
  },
  {
   "cell_type": "code",
   "execution_count": 4,
   "id": "f88b698f",
   "metadata": {},
   "outputs": [
    {
     "data": {
      "text/plain": [
       "array([0., 0., 0., 0., 1., 0., 0., 0., 0., 0.])"
      ]
     },
     "execution_count": 4,
     "metadata": {},
     "output_type": "execute_result"
    }
   ],
   "source": [
    "x=np.zeros(10)\n",
    "x[4]=1\n",
    "x"
   ]
  },
  {
   "cell_type": "markdown",
   "id": "7d03c982",
   "metadata": {},
   "source": [
    "# 2. Create a vector with values ranging from 10 to 49."
   ]
  },
  {
   "cell_type": "code",
   "execution_count": null,
   "id": "c067c5b6",
   "metadata": {},
   "outputs": [],
   "source": []
  },
  {
   "cell_type": "code",
   "execution_count": 6,
   "id": "dcf5c85c",
   "metadata": {},
   "outputs": [
    {
     "data": {
      "text/plain": [
       "array([10, 15, 20, 25, 30, 35, 40, 45])"
      ]
     },
     "execution_count": 6,
     "metadata": {},
     "output_type": "execute_result"
    }
   ],
   "source": [
    "x=np.arange(10,49,5)\n",
    "x"
   ]
  },
  {
   "cell_type": "markdown",
   "id": "43fcda90",
   "metadata": {},
   "source": [
    "# 3. Create a 3x3 matrix with values ranging from 0 to 8"
   ]
  },
  {
   "cell_type": "code",
   "execution_count": 7,
   "id": "1ec6b09b",
   "metadata": {},
   "outputs": [
    {
     "data": {
      "text/plain": [
       "array([[0, 1, 2],\n",
       "       [3, 4, 5],\n",
       "       [6, 7, 8]])"
      ]
     },
     "execution_count": 7,
     "metadata": {},
     "output_type": "execute_result"
    }
   ],
   "source": [
    "x=np.arange(0,9).reshape(3,3)\n",
    "x"
   ]
  },
  {
   "cell_type": "markdown",
   "id": "c59c8ed3",
   "metadata": {},
   "source": [
    "# 4. Find indices of non-zero elements from [1,2,0,0,4,0]"
   ]
  },
  {
   "cell_type": "code",
   "execution_count": 10,
   "id": "d75741d3",
   "metadata": {},
   "outputs": [
    {
     "data": {
      "text/plain": [
       "array([ True,  True, False, False,  True, False])"
      ]
     },
     "execution_count": 10,
     "metadata": {},
     "output_type": "execute_result"
    }
   ],
   "source": [
    "x=np.array([1,2,0,0,4,0])\n",
    "x>0\n"
   ]
  },
  {
   "cell_type": "markdown",
   "id": "a607b0d8",
   "metadata": {},
   "source": [
    "# 5. Create a 10x10 array with random values and find the minimum and maximum values.\n"
   ]
  },
  {
   "cell_type": "code",
   "execution_count": 12,
   "id": "2b1cbf55",
   "metadata": {},
   "outputs": [
    {
     "data": {
      "text/plain": [
       "array([[0.77497573, 0.25732124, 0.0424191 , 0.65024049, 0.00895793,\n",
       "        0.59898051, 0.43404942, 0.63163966, 0.68259037, 0.43636268],\n",
       "       [0.48454   , 0.04884391, 0.98102812, 0.89389523, 0.3767762 ,\n",
       "        0.83337769, 0.90366346, 0.03129368, 0.21826517, 0.18314217],\n",
       "       [0.19339142, 0.42845507, 0.18747093, 0.8887156 , 0.10367999,\n",
       "        0.49954579, 0.28716835, 0.87559278, 0.45026929, 0.3123016 ],\n",
       "       [0.88042957, 0.87143926, 0.5206466 , 0.99996865, 0.62882641,\n",
       "        0.66725233, 0.00449528, 0.45146096, 0.15436558, 0.51045017],\n",
       "       [0.37370713, 0.4618742 , 0.2966811 , 0.09173033, 0.23321327,\n",
       "        0.59056918, 0.4579615 , 0.50287605, 0.78981281, 0.95479836],\n",
       "       [0.85266852, 0.8836785 , 0.04364621, 0.85205834, 0.62297737,\n",
       "        0.75093495, 0.81892264, 0.076218  , 0.77541091, 0.4899532 ],\n",
       "       [0.5225494 , 0.48543893, 0.19891493, 0.58747793, 0.63787335,\n",
       "        0.64592505, 0.26075963, 0.96843145, 0.29210197, 0.31295704],\n",
       "       [0.59482437, 0.87931883, 0.18659777, 0.87713122, 0.32046986,\n",
       "        0.67033509, 0.35100998, 0.2640269 , 0.91702236, 0.46585869],\n",
       "       [0.44708876, 0.60076705, 0.32108517, 0.4213188 , 0.59328696,\n",
       "        0.59958563, 0.19353135, 0.17317814, 0.31587028, 0.11100671],\n",
       "       [0.64032806, 0.77900785, 0.51553278, 0.39976317, 0.69245088,\n",
       "        0.03273547, 0.09980588, 0.34204336, 0.35241273, 0.52673403]])"
      ]
     },
     "execution_count": 12,
     "metadata": {},
     "output_type": "execute_result"
    }
   ],
   "source": [
    "x=np.random.rand(10,10)\n",
    "x"
   ]
  },
  {
   "cell_type": "code",
   "execution_count": 13,
   "id": "cb05c35b",
   "metadata": {},
   "outputs": [
    {
     "name": "stdout",
     "output_type": "stream",
     "text": [
      "0.9999686519452016\n",
      "0.004495279042532663\n"
     ]
    }
   ],
   "source": [
    "print(np.max(x))\n",
    "print(np.min(x))"
   ]
  },
  {
   "cell_type": "markdown",
   "id": "83c73dc2",
   "metadata": {},
   "source": [
    "# 6. Create a random vector of size 30 and find the mean value"
   ]
  },
  {
   "cell_type": "code",
   "execution_count": 14,
   "id": "59c086aa",
   "metadata": {},
   "outputs": [
    {
     "data": {
      "text/plain": [
       "array([41, 44, 21, 95, 23, 97, 93, 95, 66, 42, 10, 82, 97, 72, 50, 51, 83,\n",
       "       14, 85, 39, 90, 24, 62, 55, 49, 11, 67, 26, 59, 48])"
      ]
     },
     "execution_count": 14,
     "metadata": {},
     "output_type": "execute_result"
    }
   ],
   "source": [
    "x=np.random.randint(1,100,30)\n",
    "x"
   ]
  },
  {
   "cell_type": "code",
   "execution_count": 15,
   "id": "e2b3576d",
   "metadata": {},
   "outputs": [
    {
     "data": {
      "text/plain": [
       "56.36666666666667"
      ]
     },
     "execution_count": 15,
     "metadata": {},
     "output_type": "execute_result"
    }
   ],
   "source": [
    "np.mean(x)"
   ]
  },
  {
   "cell_type": "code",
   "execution_count": null,
   "id": "39b2d852",
   "metadata": {},
   "outputs": [],
   "source": []
  }
 ],
 "metadata": {
  "kernelspec": {
   "display_name": "Python 3",
   "language": "python",
   "name": "python3"
  },
  "language_info": {
   "codemirror_mode": {
    "name": "ipython",
    "version": 3
   },
   "file_extension": ".py",
   "mimetype": "text/x-python",
   "name": "python",
   "nbconvert_exporter": "python",
   "pygments_lexer": "ipython3",
   "version": "3.9.5"
  }
 },
 "nbformat": 4,
 "nbformat_minor": 5
}
